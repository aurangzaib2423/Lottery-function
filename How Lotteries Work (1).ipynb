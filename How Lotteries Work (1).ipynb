{
 "cells": [
  {
   "cell_type": "markdown",
   "id": "0f5a1e20-af98-4483-8af8-8257450d4083",
   "metadata": {},
   "source": [
    "# How winning works:\n",
    "    - Lotteries\n",
    "    - Lucky \n",
    "    - Lotto"
   ]
  },
  {
   "cell_type": "code",
   "execution_count": 4,
   "id": "a672c799-6d5c-49dd-b228-b0d72ad1837d",
   "metadata": {},
   "outputs": [],
   "source": [
    "import random"
   ]
  },
  {
   "cell_type": "code",
   "execution_count": 70,
   "id": "0cceee0f-7a71-416b-a15e-62e79e85643e",
   "metadata": {},
   "outputs": [],
   "source": [
    " def lotery(fav_num):\n",
    "     numbers=random.randint(1,10)\n",
    "     if fav_num == numbers:\n",
    "         print(\"you Win\")\n",
    "\n",
    "     else:\n",
    "         print(\"Try your Luck again\")\n"
   ]
  },
  {
   "cell_type": "code",
   "execution_count": 8,
   "id": "779782a1-caae-4891-9eb4-a49bd2539d2d",
   "metadata": {},
   "outputs": [
    {
     "name": "stdout",
     "output_type": "stream",
     "text": [
      "Try your Luck again\n"
     ]
    }
   ],
   "source": [
    "lotery(1)"
   ]
  },
  {
   "cell_type": "code",
   "execution_count": 10,
   "id": "59f92122-f756-425e-b542-fd6200ef6571",
   "metadata": {},
   "outputs": [
    {
     "name": "stdout",
     "output_type": "stream",
     "text": [
      "Try your Luck again\n"
     ]
    }
   ],
   "source": [
    "lotery(2)"
   ]
  },
  {
   "cell_type": "code",
   "execution_count": 12,
   "id": "7385cefe-c496-4ad1-9a56-503f91be6d49",
   "metadata": {},
   "outputs": [
    {
     "name": "stdout",
     "output_type": "stream",
     "text": [
      "Try your Luck again\n"
     ]
    }
   ],
   "source": [
    "lotery(1)\n",
    "    "
   ]
  },
  {
   "cell_type": "code",
   "execution_count": 72,
   "id": "9e814bdd-ba7c-4ed1-9e79-d3673fee51d1",
   "metadata": {},
   "outputs": [
    {
     "name": "stdout",
     "output_type": "stream",
     "text": [
      "Try your Luck again\n",
      "Try your Luck again\n",
      "Try your Luck again\n",
      "Try your Luck again\n",
      "Try your Luck again\n",
      "you Win\n",
      "Try your Luck again\n",
      "you Win\n",
      "Try your Luck again\n",
      "Try your Luck again\n",
      "Try your Luck again\n",
      "Try your Luck again\n",
      "Try your Luck again\n",
      "Try your Luck again\n",
      "Try your Luck again\n",
      "Try your Luck again\n",
      "Try your Luck again\n",
      "Try your Luck again\n",
      "you Win\n",
      "Try your Luck again\n",
      "Try your Luck again\n",
      "Try your Luck again\n",
      "Try your Luck again\n",
      "Try your Luck again\n",
      "Try your Luck again\n",
      "Try your Luck again\n",
      "Try your Luck again\n",
      "Try your Luck again\n",
      "Try your Luck again\n",
      "Try your Luck again\n"
     ]
    }
   ],
   "source": [
    "for a in range(30):\n",
    "    my_try=random.randint(1,10)\n",
    "    lotery(my_try)\n",
    "    "
   ]
  },
  {
   "cell_type": "code",
   "execution_count": 40,
   "id": "5e8cd95c-1d7d-4b48-be3c-eff1865990dd",
   "metadata": {},
   "outputs": [],
   "source": [
    "def Amir_Bano(luckynumber):\n",
    "    number=random.randint(1,10)\n",
    "    if number == luckynumber :\n",
    "       return \"You are Lucky\"\n",
    "    else:\n",
    "        return \"Once Again\"\n",
    "        "
   ]
  },
  {
   "cell_type": "code",
   "execution_count": 42,
   "id": "5ff3c267-2ac3-4d72-9cf4-4ad535a90c33",
   "metadata": {},
   "outputs": [
    {
     "data": {
      "text/plain": [
       "'Once Again'"
      ]
     },
     "execution_count": 42,
     "metadata": {},
     "output_type": "execute_result"
    }
   ],
   "source": [
    "Amir_Bano(1)"
   ]
  },
  {
   "cell_type": "code",
   "execution_count": 44,
   "id": "f4d4c632-1c65-4ab3-a937-017c656b4598",
   "metadata": {},
   "outputs": [
    {
     "data": {
      "text/plain": [
       "'You are Lucky'"
      ]
     },
     "execution_count": 44,
     "metadata": {},
     "output_type": "execute_result"
    }
   ],
   "source": [
    "Amir_Bano(3)"
   ]
  },
  {
   "cell_type": "code",
   "execution_count": 46,
   "id": "fcd366f0-d145-4d37-b1c0-549a14bf6d65",
   "metadata": {},
   "outputs": [
    {
     "data": {
      "text/plain": [
       "'Once Again'"
      ]
     },
     "execution_count": 46,
     "metadata": {},
     "output_type": "execute_result"
    }
   ],
   "source": [
    "Amir_Bano(5)"
   ]
  },
  {
   "cell_type": "code",
   "execution_count": 50,
   "id": "76fb0280-01e2-4eaa-81fb-80f6573c7794",
   "metadata": {},
   "outputs": [
    {
     "name": "stdout",
     "output_type": "stream",
     "text": [
      "Once Again\n",
      "Once Again\n",
      "Once Again\n",
      "Once Again\n",
      "Once Again\n",
      "Once Again\n",
      "Once Again\n",
      "Once Again\n",
      "Once Again\n",
      "Once Again\n",
      "Once Again\n",
      "Once Again\n",
      "Once Again\n",
      "Once Again\n",
      "Once Again\n",
      "Once Again\n",
      "Once Again\n",
      "You are Lucky\n",
      "Once Again\n",
      "Once Again\n",
      "Once Again\n",
      "Once Again\n",
      "Once Again\n",
      "Once Again\n",
      "Once Again\n",
      "Once Again\n",
      "Once Again\n",
      "Once Again\n",
      "Once Again\n",
      "Once Again\n",
      "Once Again\n",
      "You are Lucky\n",
      "Once Again\n",
      "Once Again\n",
      "Once Again\n",
      "Once Again\n",
      "Once Again\n",
      "Once Again\n",
      "Once Again\n",
      "Once Again\n",
      "Once Again\n",
      "You are Lucky\n",
      "Once Again\n",
      "Once Again\n",
      "Once Again\n",
      "Once Again\n",
      "Once Again\n",
      "Once Again\n",
      "Once Again\n",
      "Once Again\n"
     ]
    }
   ],
   "source": [
    "for a in range(50):\n",
    "    mynum=random.randint(1,10)\n",
    "    print(Amir_Bano(mynum))"
   ]
  },
  {
   "cell_type": "code",
   "execution_count": 75,
   "id": "30c1253a-2ab2-4e06-967c-41081ff57ee4",
   "metadata": {},
   "outputs": [],
   "source": [
    "def Amir_Bano(luckynumber):\n",
    "    number=random.randint(1,10)\n",
    "    if number == luckynumber :\n",
    "       return \"Mir Masos\"\n",
    "    else:\n",
    "        return \"Barbad Masos\""
   ]
  },
  {
   "cell_type": "code",
   "execution_count": 77,
   "id": "7620873c-8340-4e62-bb41-fbf935e48117",
   "metadata": {},
   "outputs": [
    {
     "data": {
      "text/plain": [
       "'Barbad Masos'"
      ]
     },
     "execution_count": 77,
     "metadata": {},
     "output_type": "execute_result"
    }
   ],
   "source": [
    "Amir_Bano(5)"
   ]
  },
  {
   "cell_type": "code",
   "execution_count": null,
   "id": "3f7a5281-82bd-48c6-95c8-9d56da307728",
   "metadata": {},
   "outputs": [],
   "source": [
    "Amir_Bano()"
   ]
  }
 ],
 "metadata": {
  "kernelspec": {
   "display_name": "Python 3 (ipykernel)",
   "language": "python",
   "name": "python3"
  },
  "language_info": {
   "codemirror_mode": {
    "name": "ipython",
    "version": 3
   },
   "file_extension": ".py",
   "mimetype": "text/x-python",
   "name": "python",
   "nbconvert_exporter": "python",
   "pygments_lexer": "ipython3",
   "version": "3.12.7"
  }
 },
 "nbformat": 4,
 "nbformat_minor": 5
}
